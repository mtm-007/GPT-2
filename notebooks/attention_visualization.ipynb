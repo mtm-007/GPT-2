{
 "cells": [
  {
   "cell_type": "code",
   "execution_count": null,
   "metadata": {},
   "outputs": [],
   "source": [
    "import torch\n",
    "import torch.nn as nn\n",
    "from model_2 import Transformer\n",
    "from config_ft import get_config,get_weights_file_path\n",
    "from train_ft import get_model, get_ds, greedy_decode\n",
    "import altair as alt\n",
    "import pandas as pd \n",
    "import numpy as np \n",
    "import warnings\n",
    "warnings.filterwarnings('ignore')"
   ]
  },
  {
   "cell_type": "code",
   "execution_count": null,
   "metadata": {},
   "outputs": [],
   "source": [
    "#define device availabel\n",
    "device = torch.device('mps') if torch.backends.mps.is_available() else torch.device('cuda') if torch.cuda.is_available() else torch.device('cpu')\n",
    "print(f\"training with {device}\")\n"
   ]
  },
  {
   "cell_type": "code",
   "execution_count": null,
   "metadata": {},
   "outputs": [],
   "source": [
    "config = get_config()\n",
    "train_dataloader, valid_dataloader, vocab_sourc, vocab_trg, get_ds(config)\n",
    "model = get_model(config, vocab_sourc.get_vocab_size(), vocab_trg.get_vocab_size()).to(device)\n",
    "\n",
    "#load pretrained weights\n",
    "model_filename = get_weights_file_path(config,f\"29\")\n",
    "state = torch.load(model_filename)\n",
    "model.load_state_dict(state['model_state_dict'])"
   ]
  }
 ],
 "metadata": {
  "language_info": {
   "name": "python"
  }
 },
 "nbformat": 4,
 "nbformat_minor": 2
}
